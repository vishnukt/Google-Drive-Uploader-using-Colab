{
  "nbformat": 4,
  "nbformat_minor": 0,
  "metadata": {
    "colab": {
      "name": "Google Drive Uploader.ipynb",
      "provenance": []
    },
    "kernelspec": {
      "name": "python3",
      "display_name": "Python 3"
    }
  },
  "cells": [
    {
      "cell_type": "code",
      "metadata": {
        "id": "Ak2-OoRHr4FF",
        "colab_type": "code",
        "colab": {}
      },
      "source": [
        "from google.colab import drive \n",
        "drive.mount('/content/drive') "
      ],
      "execution_count": 0,
      "outputs": []
    },
    {
      "cell_type": "code",
      "metadata": {
        "id": "xWEEN_SWSR_C",
        "colab_type": "code",
        "colab": {}
      },
      "source": [
        "import os\n",
        "par = \"/content/drive/My Drive\"\n",
        "directory = \"Gdrive-Colab-Upload\"\n",
        "path = os.path.join(par, directory) \n",
        "os.mkdir(path)"
      ],
      "execution_count": 0,
      "outputs": []
    },
    {
      "cell_type": "code",
      "metadata": {
        "id": "DUsHVL-pallB",
        "colab_type": "code",
        "colab": {}
      },
      "source": [
        "import requests\n",
        "import re\n",
        "\n",
        "def getFilename_fromCd(cd):\n",
        "  if not cd:\n",
        "    return None\n",
        "  fname = re.findall('filename=(.+)', cd)\n",
        "  if len(fname) == 0:\n",
        "    return None\n",
        "  return fname[0]\n",
        "\n",
        "url = input(\"Enter Download Link : \")\n",
        "if url.find('/'):\n",
        "  filename = url.rsplit('/', 1)[1]\n",
        "else:\n",
        "  filename = getFilename_fromCd(r.headers.get('content-disposition'))\n",
        "  if filename is None:\n",
        "    filename = input(\"Enter Filename : \")\n",
        "r = requests.get(url, allow_redirects=True)\n",
        "print(\"\\n\",filename)\n",
        "print(r.headers.get('content-type'))\n",
        "size = r.headers.get('content-length')\n",
        "size = int(size)/1048576\n",
        "print(size, \"MB\")\n",
        "size = int(size)/1024\n",
        "print(size, \"GB\")\n",
        "open(\"/content/drive/My Drive/Gdrive-Colab-Upload/\"+filename, 'wb').write(r.content)"
      ],
      "execution_count": 0,
      "outputs": []
    }
  ]
}